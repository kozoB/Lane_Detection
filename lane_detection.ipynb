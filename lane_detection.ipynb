{
 "cells": [
  {
   "cell_type": "code",
   "execution_count": 1,
   "metadata": {},
   "outputs": [],
   "source": [
    "import numpy as np\n",
    "import matplotlib.pyplot as plt\n",
    "import tensorflow as tf\n",
    "import cv2"
   ]
  },
  {
   "cell_type": "code",
   "execution_count": 20,
   "metadata": {},
   "outputs": [],
   "source": [
    "image_path = rf'C:\\Users\\barki\\Downloads\\test_image.jpg'"
   ]
  },
  {
   "cell_type": "code",
   "execution_count": 21,
   "metadata": {},
   "outputs": [],
   "source": [
    "image = cv2.imread(image_path)"
   ]
  },
  {
   "cell_type": "code",
   "execution_count": 32,
   "metadata": {},
   "outputs": [],
   "source": [
    "# Display given image\n",
    "def show_image(input_image, image_name = \"image\"):\n",
    "    cv2.imshow(image_name, input_image)\n",
    "    cv2.waitKey(0)\n",
    "    cv2.destroyWindow(image_name)\n",
    "    print(f\"{image_name}: \\n{input_image}\\nimage shape: {input_image.shape}\")"
   ]
  },
  {
   "cell_type": "code",
   "execution_count": 33,
   "metadata": {},
   "outputs": [
    {
     "name": "stdout",
     "output_type": "stream",
     "text": [
      "image: \n",
      "[[[116  91  75]\n",
      "  [194 174 134]\n",
      "  [194 174 134]\n",
      "  ...\n",
      "  [248 238 215]\n",
      "  [248 238 215]\n",
      "  [248 238 215]]\n",
      "\n",
      " [[157 133 106]\n",
      "  [194 174 134]\n",
      "  [194 174 134]\n",
      "  ...\n",
      "  [247 238 215]\n",
      "  [247 238 215]\n",
      "  [247 238 215]]\n",
      "\n",
      " [[185 163 127]\n",
      "  [194 174 134]\n",
      "  [194 174 134]\n",
      "  ...\n",
      "  [247 238 215]\n",
      "  [247 238 215]\n",
      "  [247 238 215]]\n",
      "\n",
      " ...\n",
      "\n",
      " [[ 74  80  85]\n",
      "  [ 74  80  85]\n",
      "  [ 74  80  85]\n",
      "  ...\n",
      "  [ 73  74  82]\n",
      "  [ 73  74  82]\n",
      "  [ 73  74  82]]\n",
      "\n",
      " [[ 74  80  85]\n",
      "  [ 74  80  85]\n",
      "  [ 74  80  85]\n",
      "  ...\n",
      "  [ 72  73  81]\n",
      "  [ 72  73  81]\n",
      "  [ 72  73  81]]\n",
      "\n",
      " [[ 74  80  85]\n",
      "  [ 74  80  85]\n",
      "  [ 74  80  85]\n",
      "  ...\n",
      "  [ 72  73  81]\n",
      "  [ 72  73  81]\n",
      "  [ 72  73  81]]]\n",
      "image shape: (704, 1279, 3)\n"
     ]
    }
   ],
   "source": [
    "show_image(image)"
   ]
  },
  {
   "cell_type": "code",
   "execution_count": 34,
   "metadata": {},
   "outputs": [
    {
     "name": "stdout",
     "output_type": "stream",
     "text": [
      "gray_image: \n",
      "[[ 89 164 164 ... 232 232 232]\n",
      " [128 164 164 ... 232 232 232]\n",
      " [155 164 164 ... 232 232 232]\n",
      " ...\n",
      " [ 81  81  81 ...  76  76  76]\n",
      " [ 81  81  81 ...  75  75  75]\n",
      " [ 81  81  81 ...  75  75  75]]\n",
      "image shape: (704, 1279)\n"
     ]
    }
   ],
   "source": [
    "gray_image = cv2.cvtColor(image, cv2.COLOR_BGR2GRAY)\n",
    "show_image(gray_image, \"gray_image\")\n"
   ]
  },
  {
   "cell_type": "code",
   "execution_count": 35,
   "metadata": {},
   "outputs": [],
   "source": [
    "# Apply gaussian filter on given image, display and return the output image\n",
    "def apply_gaussian_fitler(input_image, kernel_size = 5, deviation = 0):\n",
    "    blurred_image = cv2.GaussianBlur(input_image, (kernel_size, kernel_size), deviation)\n",
    "    show_image(blurred_image, \"blurred_image\")\n",
    "    return blurred_image\n"
   ]
  },
  {
   "cell_type": "code",
   "execution_count": 36,
   "metadata": {},
   "outputs": [
    {
     "name": "stdout",
     "output_type": "stream",
     "text": [
      "blurred_image: \n",
      "[[146 152 161 ... 232 232 232]\n",
      " [150 155 162 ... 232 232 232]\n",
      " [158 160 163 ... 232 232 232]\n",
      " ...\n",
      " [ 81  81  81 ...  76  77  77]\n",
      " [ 81  81  81 ...  75  75  76]\n",
      " [ 81  81  81 ...  75  75  75]]\n",
      "image shape: (704, 1279)\n"
     ]
    }
   ],
   "source": [
    "blurred_image = apply_gaussian_fitler(gray_image)"
   ]
  }
 ],
 "metadata": {
  "kernelspec": {
   "display_name": "Python 3",
   "language": "python",
   "name": "python3"
  },
  "language_info": {
   "codemirror_mode": {
    "name": "ipython",
    "version": 3
   },
   "file_extension": ".py",
   "mimetype": "text/x-python",
   "name": "python",
   "nbconvert_exporter": "python",
   "pygments_lexer": "ipython3",
   "version": "3.10.4"
  }
 },
 "nbformat": 4,
 "nbformat_minor": 2
}
